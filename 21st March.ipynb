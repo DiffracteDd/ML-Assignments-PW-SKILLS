{
 "cells": [
  {
   "cell_type": "markdown",
   "id": "4e76c38a-d4f8-4442-96cc-d93968847fcd",
   "metadata": {},
   "source": [
    "1> Ordinal Encoding and Label Encoding , bth are used to transform categorical data into numerical data.\n",
    "    Label Encoding has some instrinsic pre-defined order in it's categorical values, so in that case, ordinal encoding is preferred over label encoding."
   ]
  },
  {
   "cell_type": "markdown",
   "id": "bd1ee0df-67e4-4acc-8ab9-19ea023925ff",
   "metadata": {},
   "source": [
    "2> Target guided Ordinal Encoding is a technique used to encode categorical value based on their relationship with the target variables.\n",
    "It i suseful when we have categorical value with large number of unique categories and we want to use the variable as a feature in a machine."
   ]
  },
  {
   "cell_type": "markdown",
   "id": "f0e1f42d-44db-49ee-8b6d-9af795a400df",
   "metadata": {},
   "source": [
    "3> Covariance indicates the relationship of 2 variables whenever one variable changes. If increase in one variable results in increase in the other variable then both the variables are said to be positively covarianced.\n",
    "\n",
    "    Covariance is calculated by :\n",
    "        Cov(x,y)= summation of[( Xi - Xmean) (Yi-Ymean)/(n-1)]"
   ]
  },
  {
   "cell_type": "markdown",
   "id": "3811b0c0-dce1-4e0e-9ffc-da1e9a7ccced",
   "metadata": {},
   "source": [
    "4> "
   ]
  },
  {
   "cell_type": "code",
   "execution_count": 1,
   "id": "b7d63c98-b888-4487-89a2-eaeefa61931c",
   "metadata": {},
   "outputs": [],
   "source": [
    "from sklearn.preprocessing import LabelEncoder"
   ]
  },
  {
   "cell_type": "code",
   "execution_count": 3,
   "id": "e4d028f9-e263-4fa0-93c5-3e286a9413a3",
   "metadata": {},
   "outputs": [],
   "source": [
    "lb = LabelEncoder()"
   ]
  },
  {
   "cell_type": "code",
   "execution_count": 5,
   "id": "af7ea32a-5287-47b7-8e65-906e98e27c8f",
   "metadata": {},
   "outputs": [],
   "source": [
    "df_color=['red','green','blue','red','blue','green']"
   ]
  },
  {
   "cell_type": "code",
   "execution_count": 6,
   "id": "5c483d71-6cc1-4bd1-8b49-7a6f651b0a51",
   "metadata": {},
   "outputs": [
    {
     "data": {
      "text/plain": [
       "array([2, 1, 0, 2, 0, 1])"
      ]
     },
     "execution_count": 6,
     "metadata": {},
     "output_type": "execute_result"
    }
   ],
   "source": [
    "lb.fit_transform(df_color)"
   ]
  },
  {
   "cell_type": "code",
   "execution_count": 7,
   "id": "612c774c-0234-4e2a-9c75-ace21cda39bf",
   "metadata": {},
   "outputs": [],
   "source": [
    "size=['small','medium','small','large','medium','large']"
   ]
  },
  {
   "cell_type": "code",
   "execution_count": 8,
   "id": "20a80c1f-d147-4429-880a-635e84bca546",
   "metadata": {},
   "outputs": [
    {
     "data": {
      "text/plain": [
       "array([2, 1, 2, 0, 1, 0])"
      ]
     },
     "execution_count": 8,
     "metadata": {},
     "output_type": "execute_result"
    }
   ],
   "source": [
    "lb.fit_transform(size)"
   ]
  },
  {
   "cell_type": "code",
   "execution_count": null,
   "id": "6410d367-4456-4d75-8e1a-a1592feaeeb4",
   "metadata": {},
   "outputs": [],
   "source": [
    "5>\n",
    "- For GEnder : Binary Encoding\n",
    "- for Education Level : "
   ]
  }
 ],
 "metadata": {
  "kernelspec": {
   "display_name": "Python 3 (ipykernel)",
   "language": "python",
   "name": "python3"
  },
  "language_info": {
   "codemirror_mode": {
    "name": "ipython",
    "version": 3
   },
   "file_extension": ".py",
   "mimetype": "text/x-python",
   "name": "python",
   "nbconvert_exporter": "python",
   "pygments_lexer": "ipython3",
   "version": "3.10.8"
  }
 },
 "nbformat": 4,
 "nbformat_minor": 5
}
