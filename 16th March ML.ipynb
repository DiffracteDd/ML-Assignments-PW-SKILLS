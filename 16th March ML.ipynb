{
 "cells": [
  {
   "cell_type": "markdown",
   "id": "7eb9ec85-e0d4-4fe0-9c29-1f037be5bd92",
   "metadata": {},
   "source": [
    "1> \n",
    "- Overfitting is when the bias is low and variance is high.\n",
    "- Underfitting is when the bias is high and the variance is also high."
   ]
  },
  {
   "cell_type": "markdown",
   "id": "dde19072-9fdf-4e70-8413-c728aa961f3f",
   "metadata": {},
   "source": [
    "2> Overfitting can be reduced in several ways like :\n",
    "- Increasing the size of the dataset\n",
    "- cross validation \n",
    "- feature selection "
   ]
  },
  {
   "cell_type": "markdown",
   "id": "0a262cd1-81b7-4a50-980b-f118bfdc8cfb",
   "metadata": {},
   "source": [
    "3> When the bias is high and the variance is also high , that situation is called underfitting.\n",
    "Undefitting occurs when :\n",
    "- insufficient model complexity\n",
    "- insufficient training\n",
    "- data imbalance "
   ]
  },
  {
   "cell_type": "markdown",
   "id": "dd41c881-f202-403f-b2f4-61b079cf198d",
   "metadata": {},
   "source": [
    "4> Bias Variance tradeoff in Machine Learning describes the relationship between the bias and variance of a model and how they impact the model's performance."
   ]
  },
  {
   "cell_type": "markdown",
   "id": "0a093e34-87a7-40c5-95c0-b379e858d6b9",
   "metadata": {},
   "source": [
    "Bias refers to the error introduced by approximating a real-world problem with a simplified model.\n",
    "Variance refers to the variability or sensitivity of a model's predictions to fluctuations in the training data."
   ]
  },
  {
   "cell_type": "markdown",
   "id": "e1fc7f72-7fdb-42a3-bbee-6321e2f53558",
   "metadata": {},
   "source": [
    "5> Detecting Overfitting :\n",
    "- Holdout Validation\n",
    "- cross validation \n",
    "\n",
    "\n",
    "Detecting Underfitting :\n",
    "- Comparison with baseline models\n",
    "- Learning Curves\n",
    "\n",
    "\n",
    "Determining Overfitting or Underfitting:\n",
    "- Performance Metrics\n",
    "- Residual Analysis"
   ]
  },
  {
   "cell_type": "code",
   "execution_count": null,
   "id": "efec3f5f-529c-4750-ad69-c8e6106cb25c",
   "metadata": {},
   "outputs": [],
   "source": []
  }
 ],
 "metadata": {
  "kernelspec": {
   "display_name": "Python 3 (ipykernel)",
   "language": "python",
   "name": "python3"
  },
  "language_info": {
   "codemirror_mode": {
    "name": "ipython",
    "version": 3
   },
   "file_extension": ".py",
   "mimetype": "text/x-python",
   "name": "python",
   "nbconvert_exporter": "python",
   "pygments_lexer": "ipython3",
   "version": "3.10.8"
  }
 },
 "nbformat": 4,
 "nbformat_minor": 5
}
