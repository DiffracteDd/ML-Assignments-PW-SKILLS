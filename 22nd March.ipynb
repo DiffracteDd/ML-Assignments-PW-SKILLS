{
 "cells": [
  {
   "cell_type": "markdown",
   "id": "fc810785-f1b2-45f2-b58c-9ecb9c158880",
   "metadata": {},
   "source": [
    "1> We have to find out the covariance of \"Amount of time spent studying\" and \" Annual Score\" and then divide it by the product of standard deviation of the two features."
   ]
  },
  {
   "cell_type": "markdown",
   "id": "0cae52d2-d095-4b98-9aa6-6e38ee6884ea",
   "metadata": {},
   "source": [
    "2> We have to find the covariance of the rank of 'amount of sleep' and 'job satisfaction' and then divide it  by the standard deviation of the rank of both the features."
   ]
  },
  {
   "cell_type": "markdown",
   "id": "87009a9d-2926-4fbe-bd79-9f55658ffc0c",
   "metadata": {},
   "source": [
    "3> The Pearson correlation coefficient (r) ranges from -1 to 1. A value of 1 indicates a perfect positive linear relationship, 0 indicates no linear relationship, and -1 indicates a perfect negative linear relationship. The magnitude of r indicates the strength of the linear relationship.\n",
    "The Spearman's rank correlation coefficient (ρ) ranges from -1 to 1 as well. A value of 1 indicates a perfect monotonic relationship, 0 indicates no monotonic relationship, and -1 indicates a perfect inverse monotonic relationship. The magnitude of ρ indicates the strength of the monotonic relationship."
   ]
  },
  {
   "cell_type": "markdown",
   "id": "28617eed-6ef3-4ce7-8860-2af785db0296",
   "metadata": {},
   "source": [
    "4> To calculate the Pearson correlation coefficient between the number of hours individuals spend watching television per day and their level of physical activity, you would need the data points for both variables from the sample of 50 participants.\n",
    "\n",
    "Let's assume you have the data points for the number of hours of television watched (variable X) and the level of physical activity (variable Y) for each participant.\n",
    "\n",
    "Here's how you can calculate the Pearson correlation coefficient:\n",
    "\n",
    "Calculate the mean (μx) and standard deviation (σx) of the number of hours individuals spend watching television per day (variable X).\n",
    "\n",
    "Calculate the mean (μy) and standard deviation (σy) of the level of physical activity (variable Y).\n",
    "\n",
    "Calculate the covariance (Cov(X, Y)) between X and Y.\n",
    "\n",
    "Calculate the Pearson correlation coefficient (r) using the formula:\n",
    "\n",
    "r = Cov(X, Y) / (σx * σy)\n",
    "\n",
    "By substituting the values into the formula, you can calculate the Pearson correlation coefficient for the given sample. The resulting value will range from -1 to 1, where a value of 1 indicates a perfect positive linear relationship, 0 indicates no linear relationship, and -1 indicates a perfect negative linear relationship.\n",
    "\n",
    "Note: It's important to ensure that the data meets the assumptions of linearity, normality, and independence before interpreting the Pearson correlation coefficient."
   ]
  },
  {
   "cell_type": "code",
   "execution_count": null,
   "id": "1e927792-e13c-4dfb-8065-34953169954c",
   "metadata": {},
   "outputs": [],
   "source": []
  }
 ],
 "metadata": {
  "kernelspec": {
   "display_name": "Python 3 (ipykernel)",
   "language": "python",
   "name": "python3"
  },
  "language_info": {
   "codemirror_mode": {
    "name": "ipython",
    "version": 3
   },
   "file_extension": ".py",
   "mimetype": "text/x-python",
   "name": "python",
   "nbconvert_exporter": "python",
   "pygments_lexer": "ipython3",
   "version": "3.10.8"
  }
 },
 "nbformat": 4,
 "nbformat_minor": 5
}
