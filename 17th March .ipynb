{
 "cells": [
  {
   "cell_type": "markdown",
   "id": "0b0eb066-8f41-4cd4-8ee9-54a3a65d20f8",
   "metadata": {},
   "source": [
    "1> Missing values occurs in a dataset when some of the information is not stored in the dataset for a variable.\n",
    "\n",
    "    Missing Values if not handled affects the readings in the statistical data of the dataset.\n",
    "    \n",
    "    Missing values can be handled by :\n",
    "    - Missing completely at random (MCAR)\n",
    "    - Missing at Random (MAR)\n",
    "    - Missing data not at random (MDNAR)"
   ]
  },
  {
   "cell_type": "markdown",
   "id": "2ea89b06-33c8-412f-8104-c1551243988f",
   "metadata": {},
   "source": [
    "2> Missing values can be handled by :\n",
    "- Mean Imputation :\n",
    "    df['age_mean']=df['age'].fillna(df['age'].mean())\n",
    "- Median Imputation :\n",
    "    df['age_median']=df['age'].fillna(df['age'].median())\n",
    "- Mode Imputation :\n",
    "    df['age_mode']=df['age'].fillna(df['age'].mode())\n",
    "    "
   ]
  },
  {
   "cell_type": "markdown",
   "id": "9c040b44-ec3e-45c4-b537-6b332be5ea31",
   "metadata": {},
   "source": [
    "3> Imbalanced dataset refers to the situation when one more classes are not represented adequately in a dataset thereby making the dataset skewed with one class having much larger number of instances than the other one.\n",
    "If imbalanced dataset is not handled properly then it may lead to :\n",
    "- Biased Models\n",
    "- Poor performance on minority class\n",
    "- Misleading evaluation metrics\n",
    "- Overfitting\n"
   ]
  },
  {
   "cell_type": "markdown",
   "id": "48f1e86a-65ca-4bf5-bfb6-22fca991a07e",
   "metadata": {},
   "source": [
    "4> Up sampling involves increasing the number of instances in the minority class to the number of instances in the majority class. This is done by replicating existing instances or by regenerating synthetic responses.\n",
    "\n",
    "    Downsampling is reducing the number of instances of the majority class to match the number of instances of the minority class.This aims to remove redundant instances of the majority class."
   ]
  },
  {
   "cell_type": "markdown",
   "id": "a25e4a76-8da3-49cd-8c84-6a223523cfe3",
   "metadata": {},
   "source": [
    "5> Data augmentation is a technique used in Machine Learning and deep learning to artificially increase the size and diversity of a training dataset by applying various transformations or modifications to the existing data.\n",
    "\n",
    "    SMOTE (Synthetic Minority Over-sampling Technique) is a technique used in machine learning to address imbalanced datasets where the minority class has significantly fewer instances than the majority class. SMOTE involves generating synthetic instances of the minority class by interpolating between existing instances."
   ]
  },
  {
   "cell_type": "markdown",
   "id": "25411668-76f6-4e95-a8e7-ddedcdfc7e3e",
   "metadata": {},
   "source": [
    "6> Outliers are extreme data in a dataset which breaks the flow or pattern of data.\n",
    "    Outliers, if left unhandled alters the statistical reading of the dataset."
   ]
  },
  {
   "cell_type": "markdown",
   "id": "f56aeb9d-19f8-4045-b974-96c5ccd98239",
   "metadata": {},
   "source": [
    "7>Missing values can be handled by :\n",
    "- Mean Imputation :\n",
    "    df['age_mean']=df['age'].fillna(df['age'].mean())\n",
    "- Median Imputation :\n",
    "    df['age_median']=df['age'].fillna(df['age'].median())\n",
    "- Mode Imputation :\n",
    "    df['age_mode']=df['age'].fillna(df['age'].mode())\n",
    "     "
   ]
  },
  {
   "cell_type": "markdown",
   "id": "203b6a5f-0971-45cd-85ec-35337493a294",
   "metadata": {},
   "source": [
    "8> \n",
    "- Descriptive analysis\n",
    "- Missingness heatmap\n",
    "- Missingness by Group\n",
    "- missing data imputation"
   ]
  },
  {
   "cell_type": "markdown",
   "id": "20714c88-9855-469d-9811-b99add56d3b1",
   "metadata": {},
   "source": [
    "9> \n",
    "- Confusion Matrix\n",
    "- Precision and Recall\n",
    "- F1 Score\n",
    "- Down Sampling"
   ]
  },
  {
   "cell_type": "code",
   "execution_count": null,
   "id": "64740ffd-3429-4df9-9e13-b15e3ac25205",
   "metadata": {},
   "outputs": [],
   "source": [
    "10> \n",
    "- Random Undersampling\n",
    "- Cluster-Based Undersampling\n",
    "Tome"
   ]
  }
 ],
 "metadata": {
  "kernelspec": {
   "display_name": "Python 3 (ipykernel)",
   "language": "python",
   "name": "python3"
  },
  "language_info": {
   "codemirror_mode": {
    "name": "ipython",
    "version": 3
   },
   "file_extension": ".py",
   "mimetype": "text/x-python",
   "name": "python",
   "nbconvert_exporter": "python",
   "pygments_lexer": "ipython3",
   "version": "3.10.8"
  }
 },
 "nbformat": 4,
 "nbformat_minor": 5
}
