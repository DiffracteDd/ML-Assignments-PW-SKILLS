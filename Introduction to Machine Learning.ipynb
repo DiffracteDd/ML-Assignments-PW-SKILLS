{
 "cells": [
  {
   "cell_type": "markdown",
   "id": "27b70794-826b-4c30-aa49-62583fe40fc9",
   "metadata": {},
   "source": [
    " 1>\n",
    "     \n",
    "     1> Artificial Intelligence : Artificial intelligence is the simulation of human intelligence processes by machines, especially computer systems. Specific applications of AI include expert systems, natural language processing, speech recognition and machine vision.\n",
    "    \n",
    "    2> Machine Learning : Machine learning is a branch of artificial intelligence (AI) and computer science which focuses on the use of data and algorithms to imitate the way that humans learn, gradually improving its accuracy.\n",
    "\n",
    "    3> Deep Learning : Deep learning is a subset of machine learning, which is essentially a neural network with three or more layers. These neural networks attempt to simulate the behavior of the human brain—albeit far from matching its ability—allowing it to “learn” from large amounts of data."
   ]
  },
  {
   "cell_type": "markdown",
   "id": "bb407a7d-e7eb-4e93-b8d0-db8ba4284d90",
   "metadata": {},
   "source": [
    "2> Supervised learning is the type of training the model using labelled trainng data and the output is tagged along with the output.\n",
    "Supervised learning can be used for Risk Assessment, Image classification, Fraud Detection, spam filtering"
   ]
  },
  {
   "cell_type": "markdown",
   "id": "f4b27083-c96e-4716-8059-89f4c68695a5",
   "metadata": {},
   "source": [
    "3> Unsupervised learning, also known as unsupervised machine learning, uses machine learning algorithms to analyze and cluster unlabeled datasets. These algorithms discover hidden patterns or data groupings without the need for human intervention. Its ability to discover similarities and differences in information make it the ideal solution for exploratory data analysis, cross-selling strategies, customer segmentation, and image recognition."
   ]
  },
  {
   "cell_type": "markdown",
   "id": "06c6742f-f97d-4517-af1b-0c6fe012b7ac",
   "metadata": {},
   "source": [
    "4> Artificial Intelligence is a branch of computer science. It involves building smart machines capable of performing tasks that need human intelligence.\n",
    "Machine Learning is the subsection of artificial intelligence based on algorithms and data usage. Machine learning requires complex math and a lot of coding to achieve the desired results.\n",
    "Deep learning is a subfield of artificial intelligence. It uses a multi-layered structure of algorithms called a neural network. DL algorithms also need data to learn and solve problems. We can also call it a subfield of machine learning. \n",
    "Data science is a discipline that uses various technologies and methods to analyze data. It combines computational science, statistics, mathematics, and company or business knowledge."
   ]
  },
  {
   "cell_type": "markdown",
   "id": "ff24460f-6dd7-415c-8027-6189ef39aae6",
   "metadata": {},
   "source": [
    "5> \n",
    "    \n",
    "    In suppervised learning the model is trained using dataset in which the output is also given along with the input. It is like making the model familiar with the question and aswer before an exam.\n",
    "    \n",
    "    In unsupervised learning the model is provided with input which does not have the output inside it.\n",
    "\n",
    "    In semisupervised learning, the model is trained both using supervised and unsupervised learning."
   ]
  },
  {
   "cell_type": "markdown",
   "id": "0bc5aad8-6d95-4d6a-a425-fc6810089525",
   "metadata": {},
   "source": [
    "6> \n",
    "    \n",
    "    Train is to make the model familiar with the various types of datasets and the ansswers to those datasets.\n",
    "    Validation is the hyper parameter tuning of the model.\n",
    "    Test is to verify the accuracy of the model on untrained datasets.\n"
   ]
  },
  {
   "cell_type": "markdown",
   "id": "a6db23d4-22a3-4320-8c4b-141ea3df1721",
   "metadata": {},
   "source": [
    "7> Anomaly detection techniques of unsupervised nature assume that normal data points occur considerably more frequently than anomalous data points. This assumption is used to classify data points that occur less frequently as anomalies. Unsupervised techniques assign each data point a score instead of a label."
   ]
  },
  {
   "cell_type": "code",
   "execution_count": null,
   "id": "43027db2-dc1c-4a4e-afa4-f38e97f3a5d3",
   "metadata": {},
   "outputs": [],
   "source": [
    "8> "
   ]
  }
 ],
 "metadata": {
  "kernelspec": {
   "display_name": "Python 3 (ipykernel)",
   "language": "python",
   "name": "python3"
  },
  "language_info": {
   "codemirror_mode": {
    "name": "ipython",
    "version": 3
   },
   "file_extension": ".py",
   "mimetype": "text/x-python",
   "name": "python",
   "nbconvert_exporter": "python",
   "pygments_lexer": "ipython3",
   "version": "3.10.8"
  }
 },
 "nbformat": 4,
 "nbformat_minor": 5
}
